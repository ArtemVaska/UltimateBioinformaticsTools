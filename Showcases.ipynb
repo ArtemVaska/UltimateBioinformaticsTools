{
 "cells": [
  {
   "metadata": {},
   "cell_type": "markdown",
   "source": "## Imports",
   "id": "2786fc0946d79166"
  },
  {
   "cell_type": "code",
   "id": "initial_id",
   "metadata": {
    "collapsed": true,
    "ExecuteTime": {
     "end_time": "2024-05-20T09:19:32.913973Z",
     "start_time": "2024-05-20T09:19:32.731970Z"
    }
   },
   "source": [
    "from sklearn.datasets import make_classification\n",
    "from sklearn.model_selection import train_test_split\n",
    "\n",
    "from bio_files_processor import OpenFasta\n",
    "from custom_random_forest import RandomForestClassifierCustom\n",
    "from ultimate_tools import run_genscan\n",
    "\n",
    "SEED = 12345"
   ],
   "outputs": [],
   "execution_count": 2
  },
  {
   "metadata": {},
   "cell_type": "markdown",
   "source": "## RandomForestClassifierCustom",
   "id": "47e5933012d5377c"
  },
  {
   "metadata": {
    "ExecuteTime": {
     "end_time": "2024-05-20T09:04:24.416933Z",
     "start_time": "2024-05-20T09:04:24.343223Z"
    }
   },
   "cell_type": "code",
   "source": [
    "X, y = make_classification(n_samples=100000, random_state=SEED)\n",
    "clf = RandomForestClassifierCustom(max_depth=8, max_features=20, random_state=SEED)"
   ],
   "id": "cdd81d3264d265e",
   "outputs": [],
   "execution_count": 2
  },
  {
   "metadata": {
    "ExecuteTime": {
     "end_time": "2024-05-20T09:04:35.391753Z",
     "start_time": "2024-05-20T09:04:25.730524Z"
    }
   },
   "cell_type": "code",
   "source": [
    "%%time\n",
    "\n",
    "X_train, X_test, y_train, y_test = train_test_split(X, y, random_state=SEED)\n",
    "clf.fit(X_train, y_train)\n",
    "\n",
    "result_1 = clf.predict(X_test)"
   ],
   "id": "a7f04a40d1171673",
   "outputs": [
    {
     "name": "stdout",
     "output_type": "stream",
     "text": [
      "CPU times: user 40.4 ms, sys: 51.2 ms, total: 91.7 ms\n",
      "Wall time: 9.66 s\n"
     ]
    }
   ],
   "execution_count": 3
  },
  {
   "metadata": {
    "ExecuteTime": {
     "end_time": "2024-05-20T09:04:42.843469Z",
     "start_time": "2024-05-20T09:04:37.974099Z"
    }
   },
   "cell_type": "code",
   "source": [
    "%%time\n",
    "\n",
    "X_train, X_test, y_train, y_test = train_test_split(X, y, random_state=SEED)\n",
    "clf.fit(X_train, y_train, n_jobs=2)\n",
    "\n",
    "result_2 = clf.predict(X_test, n_jobs=2)"
   ],
   "id": "c69167a9041777b9",
   "outputs": [
    {
     "name": "stdout",
     "output_type": "stream",
     "text": [
      "CPU times: user 77.6 ms, sys: 114 ms, total: 192 ms\n",
      "Wall time: 4.87 s\n"
     ]
    }
   ],
   "execution_count": 4
  },
  {
   "metadata": {
    "ExecuteTime": {
     "end_time": "2024-05-20T09:04:44.888973Z",
     "start_time": "2024-05-20T09:04:44.885251Z"
    }
   },
   "cell_type": "code",
   "source": "(result_1 == result_2).all()",
   "id": "cd51dc85539e667d",
   "outputs": [
    {
     "data": {
      "text/plain": [
       "True"
      ]
     },
     "execution_count": 5,
     "metadata": {},
     "output_type": "execute_result"
    }
   ],
   "execution_count": 5
  },
  {
   "metadata": {},
   "cell_type": "markdown",
   "source": "## OpenFasta",
   "id": "df77e5fdf8e46856"
  },
  {
   "metadata": {
    "ExecuteTime": {
     "end_time": "2024-05-20T09:07:02.069303Z",
     "start_time": "2024-05-20T09:07:02.067333Z"
    }
   },
   "cell_type": "code",
   "source": [
    "with OpenFasta(\"data/example.fasta\") as fasta:\n",
    "    print(fasta.read_record())"
   ],
   "id": "38076216a60c2910",
   "outputs": [
    {
     "name": "stdout",
     "output_type": "stream",
     "text": [
      ">GTD323452 5S_rRNA NODE_272_length_223_cov_0.720238:18-129(+)\n",
      "ACGGCCATAGGACTTTGAAAGCACCGCATCCCGTCCGATCTGCGAAGTTAACCAAGATGCCGCCTGGTTAGTACCATGGTGGGGGACCACATGGGAATCCCTGGTGCTGTG\n"
     ]
    }
   ],
   "execution_count": 8
  },
  {
   "metadata": {
    "ExecuteTime": {
     "end_time": "2024-05-20T09:09:40.951860Z",
     "start_time": "2024-05-20T09:09:40.949639Z"
    }
   },
   "cell_type": "code",
   "source": [
    "with OpenFasta(\"data/example.fasta\") as fasta:\n",
    "    records = fasta.read_records()\n",
    "    print(records[::len(records)-1])  # the first and the last element"
   ],
   "id": "917ac98cd037cb0d",
   "outputs": [
    {
     "name": "stdout",
     "output_type": "stream",
     "text": [
      "[>GTD323452 5S_rRNA NODE_272_length_223_cov_0.720238:18-129(+)\n",
      "ACGGCCATAGGACTTTGAAAGCACCGCATCCCGTCCGATCTGCGAAGTTAACCAAGATGCCGCCTGGTTAGTACCATGGTGGGGGACCACATGGGAATCCCTGGTGCTGTG, >GTD129563 16S_rRNA NODE_4_length_428221_cov_75.638017:281055-282593(-)\n",
      "CGGACGGGTGAGTAATGTCTGGGAAACTGCCTGATGGAGGGGGATAACTACTGGAAACGGTAGCTAATACCGCATAACGTCGCAAGACCAAAGAGGGGGACCGAAGTAGGTAGCTTAACCTTCGGGAGGGCGCTTACCACTTTGTGATTCATGACTGGGGTGAAGTCGTAACAAGGTAACCGTAGGGGAACCTGCGGTTGGATCACCTCCTT]\n"
     ]
    }
   ],
   "execution_count": 16
  },
  {
   "metadata": {},
   "cell_type": "markdown",
   "source": "## run_genscan",
   "id": "9c429ca977c2387"
  },
  {
   "metadata": {
    "ExecuteTime": {
     "end_time": "2024-05-20T09:19:53.897801Z",
     "start_time": "2024-05-20T09:19:53.120024Z"
    }
   },
   "cell_type": "code",
   "source": "result_genscan = run_genscan(sequence_file=\"data/nxf1_homo_sapiens.fasta\")",
   "id": "272b01e2c72f9d4f",
   "outputs": [],
   "execution_count": 7
  },
  {
   "metadata": {
    "ExecuteTime": {
     "end_time": "2024-05-20T09:19:54.702719Z",
     "start_time": "2024-05-20T09:19:54.700834Z"
    }
   },
   "cell_type": "code",
   "source": "print(result_genscan)",
   "id": "1162805e9ec41268",
   "outputs": [
    {
     "name": "stdout",
     "output_type": "stream",
     "text": [
      "Status: 200\n",
      "\n",
      "Predicted peptide:\n",
      "MADEGKSYSEHDDERVNFPQRKKKGRGPFRWKYGEGNRRSGRGGSGIRSSRLEEDDGDVAMSDAQDGPRVRYNPYTTRPNRRGDTWHDRDRIHVTVRRDRAPPERGGAGTSQDGTSKNWFKITIPYGRKYDKAWLLSMIQSKCSVPFTPIEFHYENTRAQFFVEDASTASALKAVNYKILDRENRRISIIINSSAPPHTILNELKPEQVEQLKLIMSKRYDGSQQALDLKGLRSDPDLVAQNIDVVLNRRSCMAATLRIIEENIPELLSLNLSNNRLYRLDDMSSIVQKAPNLKILNLSGNELKSERELDKIKGLKLEELWLDGNSLCDTFRDQSTYISAIRERFPKLLRLDGHELPPPIAFDVEAPTTLPPCKGSYFGTENLKSLVLHFLQQYYAIYDSGDRQGLLDAYHDGACCSLSIPFIPQNPARSSLAEYFKDSRNVKKLKDPTLRFRLLKHTRLNVVAFLNELPKTQHDVNSFVVDISAQTSTLLCFSVNGVFKEVDGKSRDSLRAFTRTFIAVPASNSGLCIVNDELFVRNASSEEIQRAFAMPAPTPSSSPVPTLSPEQQEMLQAFSTQSGMNLEWSQKCLQDNNWDYTRSAQAFTHLK\n",
      "\n",
      "Predicted introns:\n",
      "[['1.01', 154, 1503], ['1.02', 1691, 1909], ['1.03', 2064, 3221], ['1.04', 3306, 3435], ['1.05', 3541, 3662], ['1.06', 3744, 3850], ['1.07', 3921, 4064], ['1.08', 4154, 4280], ['1.09', 4389, 4995], ['1.10', 5106, 6906], ['1.11', 6944, 8095], ['1.12', 8165, 8243], ['1.13', 8300, 8914], ['1.14', 9023, 9136], ['1.15', 9196, 9300], ['1.16', 9417, 9538], ['1.17', 9582, 10474], ['1.18', 10548, 11041], ['1.19', 11225, 12780]]\n",
      "\n",
      "Predicted exons:\n",
      "[['1.01', 126, 153], ['1.02', 1504, 1690], ['1.03', 1910, 2063], ['1.04', 3222, 3305], ['1.05', 3436, 3540], ['1.06', 3663, 3743], ['1.07', 3851, 3920], ['1.08', 4065, 4153], ['1.09', 4281, 4388], ['1.10', 4996, 5105], ['1.11', 6907, 6943], ['1.12', 8096, 8164], ['1.13', 8244, 8299], ['1.14', 8915, 9022], ['1.15', 9137, 9195], ['1.16', 9301, 9416], ['1.17', 9539, 9581], ['1.18', 10475, 10547], ['1.19', 11042, 11224], ['1.20', 12781, 12841]]\n"
     ]
    }
   ],
   "execution_count": 8
  },
  {
   "metadata": {},
   "cell_type": "markdown",
   "source": "## tests",
   "id": "2f9f4fb3a1f1b3f2"
  },
  {
   "metadata": {
    "ExecuteTime": {
     "end_time": "2024-05-20T09:24:07.713381Z",
     "start_time": "2024-05-20T09:24:07.152220Z"
    }
   },
   "cell_type": "code",
   "source": "! python3.12 -m pytest",
   "id": "67c9e3e1b6876fa0",
   "outputs": [
    {
     "name": "stdout",
     "output_type": "stream",
     "text": [
      "\u001B[1m============================= test session starts ==============================\u001B[0m\r\n",
      "platform linux -- Python 3.12.3, pytest-8.2.0, pluggy-1.5.0\r\n",
      "rootdir: /home/artemvaska/BI/Python/UltimateBioinformaticsTools\r\n",
      "plugins: anyio-4.3.0\r\n",
      "collected 8 items                                                              \u001B[0m\r\n",
      "\r\n",
      "test_ubt.py \u001B[32m.\u001B[0m\u001B[32m.\u001B[0m\u001B[32m.\u001B[0m\u001B[32m.\u001B[0m\u001B[32m.\u001B[0m\u001B[32m.\u001B[0m\u001B[32m.\u001B[0m\u001B[32m.\u001B[0m\u001B[32m                                                     [100%]\u001B[0m\r\n",
      "\r\n",
      "\u001B[32m============================== \u001B[32m\u001B[1m8 passed\u001B[0m\u001B[32m in 0.29s\u001B[0m\u001B[32m ===============================\u001B[0m\r\n"
     ]
    }
   ],
   "execution_count": 9
  }
 ],
 "metadata": {
  "kernelspec": {
   "display_name": "Python 3",
   "language": "python",
   "name": "python3"
  },
  "language_info": {
   "codemirror_mode": {
    "name": "ipython",
    "version": 2
   },
   "file_extension": ".py",
   "mimetype": "text/x-python",
   "name": "python",
   "nbconvert_exporter": "python",
   "pygments_lexer": "ipython2",
   "version": "2.7.6"
  }
 },
 "nbformat": 4,
 "nbformat_minor": 5
}
